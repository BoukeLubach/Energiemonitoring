{
 "cells": [
  {
   "cell_type": "code",
   "execution_count": 41,
   "metadata": {},
   "outputs": [
    {
     "name": "stdout",
     "output_type": "stream",
     "text": [
      "--- 0.0 seconds ---\n"
     ]
    }
   ],
   "source": [
    "# -*- coding: utf-8 -*-\n",
    "\"\"\"\n",
    "Created on Sun Feb  9 17:39:42 2020\n",
    "\n",
    "@author: WaterandEnergy\n",
    "\"\"\"\n",
    "import chart_studio.plotly as py\n",
    "import pandas as pd\n",
    "import numpy as np\n",
    "import mysql.connector\n",
    "import plotly.graph_objects as go\n",
    "from plotly.subplots import make_subplots\n",
    "import time\n",
    "\n",
    "\n",
    "start_time = time.time()\n",
    "\n",
    "def get_sql_data(taglist, tablename):   \n",
    "    \"\"\"Takes a list of strings with tags and a tablename, \n",
    "    returns a pandas dataframe with the tag timeseries\"\"\"\n",
    "\n",
    "    tagstring = taglist[0]\n",
    "    for nr in range(1, len(taglist)):\n",
    "        tagstring = tagstring + ', ' + taglist[nr]\n",
    "        \n",
    "    print(tagstring)\n",
    "    conn = mysql.connector.connect(user='root', \n",
    "                                  password='pugliawijnislekker',\n",
    "                                  host='127.0.0.1',\n",
    "                                  database='Teijin_2019')\n",
    "    \n",
    "      \n",
    "    sqlcommand = 'SELECT Datetime, ' + tagstring + ' FROM ' + tablename\n",
    "    df = pd.read_sql(sqlcommand, con=conn)\n",
    "    return df\n",
    "\n",
    "\n",
    "\n",
    "print(\"--- %s seconds ---\" % (time.time() - start_time))\n"
   ]
  },
  {
   "cell_type": "code",
   "execution_count": 42,
   "metadata": {},
   "outputs": [],
   "source": [
    "## constants\n",
    "\n",
    "steamcost = {'MP' : 20,\n",
    "            'LP' : 17,\n",
    "            'condensate': 2.5}\n",
    "\n",
    "MP_steam_29barG =    {'energy':2542,  \n",
    "                      'cost': steamcost['MP'] - steamcost['condensate']} \n",
    "MP_steam_11barG =    {'energy':2412,  \n",
    "                      'cost': steamcost['MP'] - steamcost['condensate']} \n",
    "MP_steam_6barG =     {'energy':2386,  \n",
    "                      'cost': steamcost['MP'] - steamcost['condensate']} \n",
    "LP_steam_3barG =     {'energy':2362,  \n",
    "                      'cost': steamcost['LP'] - steamcost['condensate']} \n",
    "LP_steam_injection = {'energy':2739,  \n",
    "                      'cost': steamcost['LP']} \n",
    "\n",
    "water = {'evap energy' : 2250}"
   ]
  },
  {
   "cell_type": "code",
   "execution_count": 47,
   "metadata": {},
   "outputs": [
    {
     "name": "stdout",
     "output_type": "stream",
     "text": [
      "32k003\n",
      "81F21, 81F24, 81F61\n"
     ]
    }
   ],
   "source": [
    "##Budget dryer\n",
    "tags = ['32k003']\n",
    "\n",
    "df = get_sql_data(tags, 'productie')\n",
    "df = df.set_index(pd.to_datetime(df['Datetime']))\n",
    "df[tags] = df[tags].apply(pd.to_numeric, errors='coerce')\n",
    "\n",
    "tags2 = ['81F21', '81F24', '81F61']\n",
    "df2 = get_sql_data(tags2, 'steam')\n",
    "df2 = df2.set_index(pd.to_datetime(df2['Datetime']))\n",
    "df2[tags2] = df2[tags2].apply(pd.to_numeric, errors='coerce')\n",
    "df2 = df2.resample('d').sum()\n",
    "\n",
    "\n",
    "\n",
    "df = df.merge(df2, left_index=True, right_index=True)\n",
    "df['Steam consumption'] = df['81F21'] + df['81F24'] + df['81F61']\n",
    "PPTA_water_content = 0.647    #64.7 wt.% ds\n",
    "water_PPTA_ratio = (PPTA_water_content/(1-PPTA_water_content))\n",
    "\n",
    "\n",
    "df['Energy consumption'] = df['Steam consumption'] * MP_steam_29barG['energy']    #kJ/month\n",
    "df['Energy required (min)'] = df['32k003']*water_PPTA_ratio*water['evap energy']*1000\n",
    "\n",
    "df['Dryer efficiency'] = df['Energy required (min)']/df['Energy consumption']\n",
    "\n",
    "\n",
    "\n",
    "#month_totals = df.resample('M').sum()\n",
    "month_totals['Energy consumption'] = month_totals['Steam consumption'] * MP_steam_29barG['energy']    #kJ/month\n",
    "month_totals['Energy required (min)'] = month_totals['32k003']*water_PPTA_ratio*water['evap energy']*1000\n",
    "\n",
    "month_totals['Dryer efficiency'] = month_totals['Energy required (min)']/month_totals['Energy consumption']\n"
   ]
  },
  {
   "cell_type": "code",
   "execution_count": 55,
   "metadata": {},
   "outputs": [
    {
     "data": {
      "text/html": [
       "\n",
       "        <iframe\n",
       "            width=\"100%\"\n",
       "            height=\"525px\"\n",
       "            src=\"https://plot.ly/~bouke_7/92.embed\"\n",
       "            frameborder=\"0\"\n",
       "            allowfullscreen\n",
       "        ></iframe>\n",
       "        "
      ],
      "text/plain": [
       "<IPython.lib.display.IFrame at 0x21a8cd2db00>"
      ]
     },
     "execution_count": 55,
     "metadata": {},
     "output_type": "execute_result"
    }
   ],
   "source": [
    "fig = make_subplots(specs=[[{\"secondary_y\": True}]])\n",
    "\n",
    "\n",
    "\n",
    "#add traces\n",
    "\n",
    "fig.add_trace(go.Bar(\n",
    "    x=['Jan', 'Feb', 'Mar', 'Apr', 'May', 'Jun', 'Jul', 'Aug', 'Sep', 'Oct', 'Nov', 'Dec'],\n",
    "    y=month_totals['Dryer efficiency'],\n",
    "    name='Dryer efficiency'))\n",
    "\n",
    "\n",
    "fig.update_xaxes(title_text='2019')\n",
    "\n",
    "fig.update_yaxes(title_text='%')\n",
    "fig.update_layout(\n",
    "        title = 'Dryer efficiency',\n",
    "        template='none',\n",
    "        font=dict(\n",
    "                size=24,\n",
    "                color=\"#7f7f7f\"\n",
    "        ),\n",
    "        margin=go.layout.Margin(\n",
    "            l=200,\n",
    "            r=50,\n",
    "            b=100,\n",
    "            t=100,\n",
    "            pad=4\n",
    "        )\n",
    "        )       \n",
    "\n",
    "fig.update_yaxes(range=[0, 0.8])\n",
    "\n",
    "py.iplot(fig)"
   ]
  },
  {
   "cell_type": "code",
   "execution_count": null,
   "metadata": {},
   "outputs": [],
   "source": [
    "fig = make_subplots(specs=[[{\"secondary_y\": True}]])\n",
    "\n",
    "\n",
    "\n",
    "#add traces\n",
    "\n",
    "fig.add_trace(go.Scatter(\n",
    "    x=month_totals['Dryer efficiency'].index, \n",
    "    y=month_totals['Dryer efficiency'],\n",
    "    mode='lines',\n",
    "    name='Dryer efficiency'))\n",
    "\n",
    "\n",
    "\n",
    "fig.update_yaxes(title_text='%')\n",
    "fig.update_layout(\n",
    "        template='none',\n",
    "        font=dict(\n",
    "                size=32,\n",
    "                color=\"#7f7f7f\"\n",
    "        ),\n",
    "        margin=go.layout.Margin(\n",
    "            l=200,\n",
    "            r=50,\n",
    "            b=100,\n",
    "            t=100,\n",
    "            pad=4\n",
    "        )\n",
    "        )       \n",
    "\n",
    "fig.update_yaxes(range=[0.3, 0.8])\n",
    "\n",
    "py.iplot(fig)"
   ]
  }
 ],
 "metadata": {
  "kernelspec": {
   "display_name": "Python 3",
   "language": "python",
   "name": "python3"
  },
  "language_info": {
   "codemirror_mode": {
    "name": "ipython",
    "version": 3
   },
   "file_extension": ".py",
   "mimetype": "text/x-python",
   "name": "python",
   "nbconvert_exporter": "python",
   "pygments_lexer": "ipython3",
   "version": "3.6.8"
  }
 },
 "nbformat": 4,
 "nbformat_minor": 2
}
